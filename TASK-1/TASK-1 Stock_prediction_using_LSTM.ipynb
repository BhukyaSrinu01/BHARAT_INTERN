{
 "cells": [
  {
   "cell_type": "markdown",
   "id": "e2849934",
   "metadata": {},
   "source": [
    "# TASK-1 Stock_prediction_using_LSTM"
   ]
  },
  {
   "cell_type": "markdown",
   "id": "f1ec688f",
   "metadata": {},
   "source": [
    "# Importing the libraries"
   ]
  },
  {
   "cell_type": "code",
   "execution_count": 1,
   "id": "162e7553",
   "metadata": {},
   "outputs": [],
   "source": [
    "import pandas as pd\n",
    "import numpy as np\n",
    "import matplotlib.pyplot as plt\n",
    "import keras"
   ]
  },
  {
   "cell_type": "markdown",
   "id": "a6167035",
   "metadata": {},
   "source": [
    "# Importing the data"
   ]
  },
  {
   "cell_type": "code",
   "execution_count": 2,
   "id": "261b60e4",
   "metadata": {},
   "outputs": [],
   "source": [
    "train = pd.read_csv('Price_Train.csv')\n",
    "test = pd.read_csv('Price_Test.csv')"
   ]
  },
  {
   "cell_type": "code",
   "execution_count": 3,
   "id": "05bb8fed",
   "metadata": {},
   "outputs": [
    {
     "data": {
      "text/html": [
       "<div>\n",
       "<style scoped>\n",
       "    .dataframe tbody tr th:only-of-type {\n",
       "        vertical-align: middle;\n",
       "    }\n",
       "\n",
       "    .dataframe tbody tr th {\n",
       "        vertical-align: top;\n",
       "    }\n",
       "\n",
       "    .dataframe thead th {\n",
       "        text-align: right;\n",
       "    }\n",
       "</style>\n",
       "<table border=\"1\" class=\"dataframe\">\n",
       "  <thead>\n",
       "    <tr style=\"text-align: right;\">\n",
       "      <th></th>\n",
       "      <th>Date</th>\n",
       "      <th>Open</th>\n",
       "      <th>High</th>\n",
       "      <th>Low</th>\n",
       "      <th>Close</th>\n",
       "      <th>Volume</th>\n",
       "    </tr>\n",
       "  </thead>\n",
       "  <tbody>\n",
       "    <tr>\n",
       "      <th>0</th>\n",
       "      <td>1/3/2012</td>\n",
       "      <td>325.25</td>\n",
       "      <td>332.83</td>\n",
       "      <td>324.97</td>\n",
       "      <td>663.59</td>\n",
       "      <td>7,380,500</td>\n",
       "    </tr>\n",
       "    <tr>\n",
       "      <th>1</th>\n",
       "      <td>1/4/2012</td>\n",
       "      <td>331.27</td>\n",
       "      <td>333.87</td>\n",
       "      <td>329.08</td>\n",
       "      <td>666.45</td>\n",
       "      <td>5,749,400</td>\n",
       "    </tr>\n",
       "    <tr>\n",
       "      <th>2</th>\n",
       "      <td>1/5/2012</td>\n",
       "      <td>329.83</td>\n",
       "      <td>330.75</td>\n",
       "      <td>326.89</td>\n",
       "      <td>657.21</td>\n",
       "      <td>6,590,300</td>\n",
       "    </tr>\n",
       "    <tr>\n",
       "      <th>3</th>\n",
       "      <td>1/6/2012</td>\n",
       "      <td>328.34</td>\n",
       "      <td>328.77</td>\n",
       "      <td>323.68</td>\n",
       "      <td>648.24</td>\n",
       "      <td>5,405,900</td>\n",
       "    </tr>\n",
       "    <tr>\n",
       "      <th>4</th>\n",
       "      <td>1/9/2012</td>\n",
       "      <td>322.04</td>\n",
       "      <td>322.29</td>\n",
       "      <td>309.46</td>\n",
       "      <td>620.76</td>\n",
       "      <td>11,688,800</td>\n",
       "    </tr>\n",
       "  </tbody>\n",
       "</table>\n",
       "</div>"
      ],
      "text/plain": [
       "       Date    Open    High     Low   Close      Volume\n",
       "0  1/3/2012  325.25  332.83  324.97  663.59   7,380,500\n",
       "1  1/4/2012  331.27  333.87  329.08  666.45   5,749,400\n",
       "2  1/5/2012  329.83  330.75  326.89  657.21   6,590,300\n",
       "3  1/6/2012  328.34  328.77  323.68  648.24   5,405,900\n",
       "4  1/9/2012  322.04  322.29  309.46  620.76  11,688,800"
      ]
     },
     "execution_count": 3,
     "metadata": {},
     "output_type": "execute_result"
    }
   ],
   "source": [
    "train.head()"
   ]
  },
  {
   "cell_type": "code",
   "execution_count": 4,
   "id": "ae7b7fa3",
   "metadata": {},
   "outputs": [],
   "source": [
    "#taking open price from data in 2d array , if we will do train.loc[:, 'open'].values it gives one d array which wont\n",
    "#be considered in scaling\n",
    "train_open = train.iloc[:, 1:2].values"
   ]
  },
  {
   "cell_type": "code",
   "execution_count": 5,
   "id": "4b038d06",
   "metadata": {},
   "outputs": [],
   "source": [
    "#Scaling the values between 0 to 1\n",
    "from sklearn.preprocessing import MinMaxScaler\n",
    "ss = MinMaxScaler(feature_range=(0,1))\n",
    "train_open_scaled = ss.fit_transform(train_open)"
   ]
  },
  {
   "cell_type": "code",
   "execution_count": 7,
   "id": "08d914a8",
   "metadata": {},
   "outputs": [
    {
     "data": {
      "text/plain": [
       "array([0.08627874])"
      ]
     },
     "execution_count": 7,
     "metadata": {},
     "output_type": "execute_result"
    }
   ],
   "source": [
    "train_open_scaled[60]"
   ]
  },
  {
   "cell_type": "markdown",
   "id": "d5e2c316",
   "metadata": {},
   "source": [
    "Below we will be taking previous 60 days open datasteps to predict the next values so we are converting the data as per our input in LTSM layers. i.e for taking 0 to 59 days open price to get 60th day price as output, 1 to 60 for 61, 2 to 61 for 62"
   ]
  },
  {
   "cell_type": "code",
   "execution_count": 8,
   "id": "4a20bdbc",
   "metadata": {},
   "outputs": [],
   "source": [
    "# Feature selection\n",
    "xtrain=[]\n",
    "ytrain=[]\n",
    "for i in range(60,len(train_open_scaled)):\n",
    "    xtrain.append(train_open_scaled[i-60:i,0])\n",
    "    ytrain.append(train_open_scaled[i,0])\n",
    "    \n",
    "xtrain, ytrain = np.array(xtrain), np.array(ytrain)    "
   ]
  },
  {
   "cell_type": "code",
   "execution_count": 9,
   "id": "957881ed",
   "metadata": {},
   "outputs": [],
   "source": [
    "#Reshaping the train data to make it as input for LTSM layer input_shape(batchzise,timest\n",
    "xtrain = np.reshape(xtrain,(xtrain.shape[0],xtrain.shape[1],1))"
   ]
  },
  {
   "cell_type": "code",
   "execution_count": 10,
   "id": "daa678f5",
   "metadata": {},
   "outputs": [
    {
     "data": {
      "text/plain": [
       "(1198, 60, 1)"
      ]
     },
     "execution_count": 10,
     "metadata": {},
     "output_type": "execute_result"
    }
   ],
   "source": [
    "xtrain.shape"
   ]
  },
  {
   "cell_type": "markdown",
   "id": "f781321d",
   "metadata": {},
   "source": [
    "# Building the LSTM Network"
   ]
  },
  {
   "cell_type": "code",
   "execution_count": 11,
   "id": "4fada4b8",
   "metadata": {},
   "outputs": [],
   "source": [
    "from keras.models import Sequential\n",
    "from keras.layers import LSTM\n",
    "from keras.layers import Dense\n",
    "from keras.layers import Dropout"
   ]
  },
  {
   "cell_type": "code",
   "execution_count": 12,
   "id": "b7bd3476",
   "metadata": {},
   "outputs": [
    {
     "name": "stdout",
     "output_type": "stream",
     "text": [
      "Epoch 1/100\n",
      "40/40 [==============================] - 4s 31ms/step - loss: 0.0345\n",
      "Epoch 2/100\n",
      "40/40 [==============================] - 1s 30ms/step - loss: 0.0055\n",
      "Epoch 3/100\n",
      "40/40 [==============================] - 1s 31ms/step - loss: 0.0049\n",
      "Epoch 4/100\n",
      "40/40 [==============================] - 1s 32ms/step - loss: 0.0050\n",
      "Epoch 5/100\n",
      "40/40 [==============================] - 1s 31ms/step - loss: 0.0047\n",
      "Epoch 6/100\n",
      "40/40 [==============================] - 1s 31ms/step - loss: 0.0047\n",
      "Epoch 7/100\n",
      "40/40 [==============================] - 1s 31ms/step - loss: 0.0053\n",
      "Epoch 8/100\n",
      "40/40 [==============================] - 1s 31ms/step - loss: 0.0046\n",
      "Epoch 9/100\n",
      "40/40 [==============================] - 1s 31ms/step - loss: 0.0044\n",
      "Epoch 10/100\n",
      "40/40 [==============================] - 1s 31ms/step - loss: 0.0044\n",
      "Epoch 11/100\n",
      "40/40 [==============================] - 1s 31ms/step - loss: 0.0040\n",
      "Epoch 12/100\n",
      "40/40 [==============================] - 1s 30ms/step - loss: 0.0045\n",
      "Epoch 13/100\n",
      "40/40 [==============================] - 1s 30ms/step - loss: 0.0036\n",
      "Epoch 14/100\n",
      "40/40 [==============================] - 1s 30ms/step - loss: 0.0038\n",
      "Epoch 15/100\n",
      "40/40 [==============================] - 1s 30ms/step - loss: 0.0037\n",
      "Epoch 16/100\n",
      "40/40 [==============================] - 1s 30ms/step - loss: 0.0039\n",
      "Epoch 17/100\n",
      "40/40 [==============================] - 1s 30ms/step - loss: 0.0033\n",
      "Epoch 18/100\n",
      "40/40 [==============================] - 1s 31ms/step - loss: 0.0034\n",
      "Epoch 19/100\n",
      "40/40 [==============================] - 1s 30ms/step - loss: 0.0034\n",
      "Epoch 20/100\n",
      "40/40 [==============================] - 1s 30ms/step - loss: 0.0035\n",
      "Epoch 21/100\n",
      "40/40 [==============================] - 1s 30ms/step - loss: 0.0033\n",
      "Epoch 22/100\n",
      "40/40 [==============================] - 1s 30ms/step - loss: 0.0034\n",
      "Epoch 23/100\n",
      "40/40 [==============================] - 1s 30ms/step - loss: 0.0031\n",
      "Epoch 24/100\n",
      "40/40 [==============================] - 1s 30ms/step - loss: 0.0029\n",
      "Epoch 25/100\n",
      "40/40 [==============================] - 1s 30ms/step - loss: 0.0029\n",
      "Epoch 26/100\n",
      "40/40 [==============================] - 1s 30ms/step - loss: 0.0031\n",
      "Epoch 27/100\n",
      "40/40 [==============================] - 1s 30ms/step - loss: 0.0031\n",
      "Epoch 28/100\n",
      "40/40 [==============================] - 1s 30ms/step - loss: 0.0034\n",
      "Epoch 29/100\n",
      "40/40 [==============================] - 1s 30ms/step - loss: 0.0032\n",
      "Epoch 30/100\n",
      "40/40 [==============================] - 1s 30ms/step - loss: 0.0029\n",
      "Epoch 31/100\n",
      "40/40 [==============================] - 1s 30ms/step - loss: 0.0031\n",
      "Epoch 32/100\n",
      "40/40 [==============================] - 1s 30ms/step - loss: 0.0030\n",
      "Epoch 33/100\n",
      "40/40 [==============================] - 1s 30ms/step - loss: 0.0029\n",
      "Epoch 34/100\n",
      "40/40 [==============================] - 1s 30ms/step - loss: 0.0029\n",
      "Epoch 35/100\n",
      "40/40 [==============================] - 1s 30ms/step - loss: 0.0026\n",
      "Epoch 36/100\n",
      "40/40 [==============================] - 1s 30ms/step - loss: 0.0028\n",
      "Epoch 37/100\n",
      "40/40 [==============================] - 1s 30ms/step - loss: 0.0030\n",
      "Epoch 38/100\n",
      "40/40 [==============================] - 1s 30ms/step - loss: 0.0026\n",
      "Epoch 39/100\n",
      "40/40 [==============================] - 1s 30ms/step - loss: 0.0026\n",
      "Epoch 40/100\n",
      "40/40 [==============================] - 1s 30ms/step - loss: 0.0025\n",
      "Epoch 41/100\n",
      "40/40 [==============================] - 1s 30ms/step - loss: 0.0030\n",
      "Epoch 42/100\n",
      "40/40 [==============================] - 1s 30ms/step - loss: 0.0027\n",
      "Epoch 43/100\n",
      "40/40 [==============================] - 1s 30ms/step - loss: 0.0024\n",
      "Epoch 44/100\n",
      "40/40 [==============================] - 1s 30ms/step - loss: 0.0027\n",
      "Epoch 45/100\n",
      "40/40 [==============================] - 1s 30ms/step - loss: 0.0023\n",
      "Epoch 46/100\n",
      "40/40 [==============================] - 1s 30ms/step - loss: 0.0023\n",
      "Epoch 47/100\n",
      "40/40 [==============================] - 1s 30ms/step - loss: 0.0024\n",
      "Epoch 48/100\n",
      "40/40 [==============================] - 1s 30ms/step - loss: 0.0025\n",
      "Epoch 49/100\n",
      "40/40 [==============================] - 1s 30ms/step - loss: 0.0022\n",
      "Epoch 50/100\n",
      "40/40 [==============================] - 1s 30ms/step - loss: 0.0025\n",
      "Epoch 51/100\n",
      "40/40 [==============================] - 1s 30ms/step - loss: 0.0021\n",
      "Epoch 52/100\n",
      "40/40 [==============================] - 1s 30ms/step - loss: 0.0020\n",
      "Epoch 53/100\n",
      "40/40 [==============================] - 1s 30ms/step - loss: 0.0022\n",
      "Epoch 54/100\n",
      "40/40 [==============================] - 1s 30ms/step - loss: 0.0021\n",
      "Epoch 55/100\n",
      "40/40 [==============================] - 1s 30ms/step - loss: 0.0020\n",
      "Epoch 56/100\n",
      "40/40 [==============================] - 1s 30ms/step - loss: 0.0021\n",
      "Epoch 57/100\n",
      "40/40 [==============================] - 1s 30ms/step - loss: 0.0020\n",
      "Epoch 58/100\n",
      "40/40 [==============================] - 1s 30ms/step - loss: 0.0018\n",
      "Epoch 59/100\n",
      "40/40 [==============================] - 1s 30ms/step - loss: 0.0019\n",
      "Epoch 60/100\n",
      "40/40 [==============================] - 1s 30ms/step - loss: 0.0020\n",
      "Epoch 61/100\n",
      "40/40 [==============================] - 1s 30ms/step - loss: 0.0020\n",
      "Epoch 62/100\n",
      "40/40 [==============================] - 1s 30ms/step - loss: 0.0020\n",
      "Epoch 63/100\n",
      "40/40 [==============================] - 1s 30ms/step - loss: 0.0020\n",
      "Epoch 64/100\n",
      "40/40 [==============================] - 1s 30ms/step - loss: 0.0019\n",
      "Epoch 65/100\n",
      "40/40 [==============================] - 1s 30ms/step - loss: 0.0018\n",
      "Epoch 66/100\n",
      "40/40 [==============================] - 1s 30ms/step - loss: 0.0017\n",
      "Epoch 67/100\n",
      "40/40 [==============================] - 1s 30ms/step - loss: 0.0017\n",
      "Epoch 68/100\n",
      "40/40 [==============================] - 1s 30ms/step - loss: 0.0016\n",
      "Epoch 69/100\n",
      "40/40 [==============================] - 1s 30ms/step - loss: 0.0018\n",
      "Epoch 70/100\n",
      "40/40 [==============================] - 1s 30ms/step - loss: 0.0018\n",
      "Epoch 71/100\n",
      "40/40 [==============================] - 1s 30ms/step - loss: 0.0018\n",
      "Epoch 72/100\n",
      "40/40 [==============================] - 1s 30ms/step - loss: 0.0018\n",
      "Epoch 73/100\n",
      "40/40 [==============================] - 1s 30ms/step - loss: 0.0018\n",
      "Epoch 74/100\n",
      "40/40 [==============================] - 1s 30ms/step - loss: 0.0016\n",
      "Epoch 75/100\n",
      "40/40 [==============================] - 1s 30ms/step - loss: 0.0015\n",
      "Epoch 76/100\n",
      "40/40 [==============================] - 1s 30ms/step - loss: 0.0016\n",
      "Epoch 77/100\n",
      "40/40 [==============================] - 1s 30ms/step - loss: 0.0016\n",
      "Epoch 78/100\n",
      "40/40 [==============================] - 1s 30ms/step - loss: 0.0015\n",
      "Epoch 79/100\n",
      "40/40 [==============================] - 1s 30ms/step - loss: 0.0015\n",
      "Epoch 80/100\n",
      "40/40 [==============================] - 1s 30ms/step - loss: 0.0018\n",
      "Epoch 81/100\n",
      "40/40 [==============================] - 1s 30ms/step - loss: 0.0017\n",
      "Epoch 82/100\n",
      "40/40 [==============================] - 1s 30ms/step - loss: 0.0013\n",
      "Epoch 83/100\n",
      "40/40 [==============================] - 1s 30ms/step - loss: 0.0017\n",
      "Epoch 84/100\n",
      "40/40 [==============================] - 1s 30ms/step - loss: 0.0017\n",
      "Epoch 85/100\n",
      "40/40 [==============================] - 1s 30ms/step - loss: 0.0015\n",
      "Epoch 86/100\n",
      "40/40 [==============================] - 1s 30ms/step - loss: 0.0016\n",
      "Epoch 87/100\n",
      "40/40 [==============================] - 1s 30ms/step - loss: 0.0014\n",
      "Epoch 88/100\n",
      "40/40 [==============================] - 1s 31ms/step - loss: 0.0014\n",
      "Epoch 89/100\n",
      "40/40 [==============================] - 1s 30ms/step - loss: 0.0015\n",
      "Epoch 90/100\n",
      "40/40 [==============================] - 1s 30ms/step - loss: 0.0013\n",
      "Epoch 91/100\n",
      "40/40 [==============================] - 1s 30ms/step - loss: 0.0014\n",
      "Epoch 92/100\n",
      "40/40 [==============================] - 1s 30ms/step - loss: 0.0016\n",
      "Epoch 93/100\n",
      "40/40 [==============================] - 1s 30ms/step - loss: 0.0013\n",
      "Epoch 94/100\n",
      "40/40 [==============================] - 1s 30ms/step - loss: 0.0013\n",
      "Epoch 95/100\n",
      "40/40 [==============================] - 1s 30ms/step - loss: 0.0013\n",
      "Epoch 96/100\n",
      "40/40 [==============================] - 1s 30ms/step - loss: 0.0016\n",
      "Epoch 97/100\n",
      "40/40 [==============================] - 1s 30ms/step - loss: 0.0013\n",
      "Epoch 98/100\n",
      "40/40 [==============================] - 1s 30ms/step - loss: 0.0014\n",
      "Epoch 99/100\n",
      "40/40 [==============================] - 1s 30ms/step - loss: 0.0014\n",
      "Epoch 100/100\n",
      "40/40 [==============================] - 1s 30ms/step - loss: 0.0013\n"
     ]
    },
    {
     "data": {
      "text/plain": [
       "<keras.callbacks.History at 0x25813e53cd0>"
      ]
     },
     "execution_count": 12,
     "metadata": {},
     "output_type": "execute_result"
    }
   ],
   "source": [
    "#initialisizng the model \n",
    "regression= Sequential()\n",
    "\n",
    "#First Input layer and LSTM layer with 0.2% dropout\n",
    "regression.add(LSTM(units=50,return_sequences=True,kernel_initializer='glorot_uniform',input_shape=(xtrain.shape[1],1)))\n",
    "regression.add(Dropout(0.2))\n",
    "\n",
    "# Where:\n",
    "#     return_sequences: Boolean. Whether to return the last output in the output sequence, or the full sequence.\n",
    "\n",
    "# Second LSTM layer with 0.2% dropout\n",
    "regression.add(LSTM(units=50,kernel_initializer='glorot_uniform',return_sequences=True))\n",
    "regression.add(Dropout(0.2))\n",
    "\n",
    "#Third LSTM layer with 0.2% dropout\n",
    "regression.add(LSTM(units=50,kernel_initializer='glorot_uniform',return_sequences=True))\n",
    "regression.add(Dropout(0.2))\n",
    "\n",
    "#Fourth LSTM layer with 0.2% dropout, we wont use return sequence true in last layers as we dont want to previous output\n",
    "regression.add(LSTM(units=50,kernel_initializer='glorot_uniform'))\n",
    "regression.add(Dropout(0.2))\n",
    "#Output layer , we wont pass any activation as its continous value model\n",
    "regression.add(Dense(units=1))\n",
    "\n",
    "#Compiling the network\n",
    "regression.compile(optimizer='adam',loss='mean_squared_error')\n",
    "\n",
    "\n",
    "#fitting the network\n",
    "regression.fit(xtrain,ytrain,batch_size=30,epochs=100)"
   ]
  },
  {
   "cell_type": "markdown",
   "id": "24142b5e",
   "metadata": {},
   "source": [
    "# Predicting for test data"
   ]
  },
  {
   "cell_type": "markdown",
   "id": "836dfc2d",
   "metadata": {},
   "source": [
    "As we have 60 input in our layer, we will concatenate our train and test and will take last 60 values of our training set with test set"
   ]
  },
  {
   "cell_type": "code",
   "execution_count": 13,
   "id": "56090154",
   "metadata": {},
   "outputs": [],
   "source": [
    "test_open= test.iloc[:, 1:2].values #taking  open price\n",
    "total= pd.concat([train['Open'],test['Open']],axis=0) # Concating train and test and then will take last 60 train point\n",
    "test_input = total[len(total)-len(test)-60:].values\n",
    "test_input= test_input.reshape(-1,1) # reshaping it to get it transformed\n",
    "test_input= ss.transform(test_input)"
   ]
  },
  {
   "cell_type": "code",
   "execution_count": 14,
   "id": "d0f534e1",
   "metadata": {},
   "outputs": [],
   "source": [
    "xtest = []\n",
    "for i in range(60,80):\n",
    "    xtest.append(test_input[i-60:i,0]) #creating input for lstm prediction"
   ]
  },
  {
   "cell_type": "code",
   "execution_count": 15,
   "id": "aff535cf",
   "metadata": {},
   "outputs": [],
   "source": [
    "xtest = np.array(xtest)"
   ]
  },
  {
   "cell_type": "code",
   "execution_count": 16,
   "id": "ce1952f2",
   "metadata": {},
   "outputs": [
    {
     "name": "stdout",
     "output_type": "stream",
     "text": [
      "1/1 [==============================] - 1s 623ms/step\n"
     ]
    }
   ],
   "source": [
    "xtest = np.reshape(xtest,(xtest.shape[0],xtest.shape[1],1))\n",
    "predicted_value = regression.predict(xtest)"
   ]
  },
  {
   "cell_type": "code",
   "execution_count": 17,
   "id": "3cd7cc1e",
   "metadata": {},
   "outputs": [],
   "source": [
    "predicted_value = ss.inverse_transform(predicted_value)"
   ]
  },
  {
   "cell_type": "markdown",
   "id": "13adeb32",
   "metadata": {},
   "source": [
    "# Plotting the data"
   ]
  },
  {
   "cell_type": "code",
   "execution_count": 18,
   "id": "ce4954ff",
   "metadata": {},
   "outputs": [
    {
     "data": {
      "text/plain": [
       "<matplotlib.legend.Legend at 0x2581ec34a00>"
      ]
     },
     "execution_count": 18,
     "metadata": {},
     "output_type": "execute_result"
    },
    {
     "data": {
      "image/png": "[encoded data removed]",
      "text/plain": [
       "<Figure size 2000x1000 with 1 Axes>"
      ]
     },
     "metadata": {},
     "output_type": "display_data"
    }
   ],
   "source": [
    "plt.figure(figsize=(20,10))\n",
    "plt.plot(test_open,'red',label='Real Prices')\n",
    "plt.plot(predicted_value,'blue',label='Predicted Prices')\n",
    "plt.xlabel('Time')\n",
    "plt.ylabel('Prices')\n",
    "plt.title('Real vs Predicted Prices')\n",
    "plt.legend(loc='best',fontsize=20)"
   ]
  },
  {
   "cell_type": "code",
   "execution_count": null,
   "id": "e649c304",
   "metadata": {},
   "outputs": [],
   "source": []
  }
 ],
 "metadata": {
  "kernelspec": {
   "display_name": "Python 3 (ipykernel)",
   "language": "python",
   "name": "python3"
  },
  "language_info": {
   "codemirror_mode": {
    "name": "ipython",
    "version": 3
   },
   "file_extension": ".py",
   "mimetype": "text/x-python",
   "name": "python",
   "nbconvert_exporter": "python",
   "pygments_lexer": "ipython3",
   "version": "3.9.13"
  }
 },
 "nbformat": 4,
 "nbformat_minor": 5
}
